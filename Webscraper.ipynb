{
  "nbformat": 4,
  "nbformat_minor": 0,
  "metadata": {
    "colab": {
      "provenance": []
    },
    "kernelspec": {
      "name": "python3",
      "display_name": "Python 3"
    },
    "language_info": {
      "name": "python"
    }
  },
  "cells": [
    {
      "cell_type": "code",
      "source": [
        "import requests\n",
        "from bs4 import BeautifulSoup\n",
        "import pandas as pd\n",
        "from googlesearch import search\n",
        "import time\n",
        "\n",
        "# Define search query\n",
        "query = \"The Digital Fifth fintech OR consulting OR finance OR market trends OR strategy\"\n",
        "\n",
        "# Get top Google search results\n",
        "search_results = list(search(query, num_results=10))\n",
        "print(f\"🔍 Found {len(search_results)} relevant websites.\")\n",
        "\n",
        "# Keywords for categorization\n",
        "categories = {\n",
        "    \"Market Trends\": [\"trend\", \"growth\", \"future\", \"forecast\"],\n",
        "    \"Strategy\": [\"strategy\", \"business model\", \"plan\"],\n",
        "    \"Finance\": [\"investment\", \"funding\", \"revenue\", \"profit\"],\n",
        "    \"Competition\": [\"competitor\", \"market share\", \"industry leader\"],\n",
        "}\n",
        "\n",
        "def categorize_text(text):\n",
        "    \"\"\"Categorize content based on predefined keywords.\"\"\"\n",
        "    for category, keywords in categories.items():\n",
        "        if any(keyword in text.lower() for keyword in keywords):\n",
        "            return category\n",
        "    return \"General\"\n",
        "\n",
        "# List to store scraped data\n",
        "data = []\n",
        "\n",
        "# Scrape each website\n",
        "for url in search_results:\n",
        "    try:\n",
        "        print(f\"🌐 Scraping: {url}\")\n",
        "\n",
        "        # Fetch website content\n",
        "        response = requests.get(url, timeout=10, headers={'User-Agent': 'Mozilla/5.0'})\n",
        "        response.raise_for_status()\n",
        "\n",
        "        # Parse with BeautifulSoup\n",
        "        soup = BeautifulSoup(response.text, \"html.parser\")\n",
        "\n",
        "        # Extract relevant content\n",
        "        for section in soup.find_all([\"h1\", \"h2\", \"h3\", \"p\", \"a\"]):\n",
        "            text = section.get_text(strip=True)\n",
        "            tag = section.name\n",
        "            link = section.get(\"href\") if section.name == \"a\" else None\n",
        "            category = categorize_text(text)\n",
        "            data.append([url, tag, text, link, category])\n",
        "\n",
        "        time.sleep(2)  # Prevent hitting rate limits\n",
        "\n",
        "    except Exception as e:\n",
        "        print(f\"❌ Error scraping {url}: {e}\")\n",
        "\n",
        "# Convert to DataFrame\n",
        "df = pd.DataFrame(data, columns=[\"Website\", \"Tag\", \"Content\", \"Link\", \"Category\"])\n",
        "\n",
        "# Save to CSV\n",
        "df.to_csv(\"consulting_market_analysis.csv\", index=False)\n",
        "\n",
        "print(\"✅ Scraping and categorization complete! Data saved as consulting_market_analysis.csv.\")"
      ],
      "metadata": {
        "colab": {
          "base_uri": "https://localhost:8080/"
        },
        "id": "w2OU_dr7J7rH",
        "outputId": "767a9b95-4860-443b-a0e5-0f38bcdb19ee"
      },
      "execution_count": 15,
      "outputs": [
        {
          "output_type": "stream",
          "name": "stdout",
          "text": [
            "🔍 Found 10 relevant websites.\n",
            "🌐 Scraping: https://thedigitalfifth.com/\n",
            "🌐 Scraping: https://thedigitalfifth.com/reports/\n",
            "🌐 Scraping: https://in.linkedin.com/company/thedigitalfifth\n",
            "🌐 Scraping: https://www.youtube.com/playlist?list=PLekAEhRDBwIH6FvvpmRgepLarFCkJnEeE\n",
            "🌐 Scraping: https://everfi.com/blog/financial-education/5-financial-services-marketing-trends/\n",
            "🌐 Scraping: https://www.facebook.com/thedigitalfifth/\n",
            "🌐 Scraping: https://www.youtube.com/@TheDigitalFifth\n",
            "🌐 Scraping: https://www.crunchbase.com/organization/the-digital-fifth\n",
            "❌ Error scraping https://www.crunchbase.com/organization/the-digital-fifth: 403 Client Error: Forbidden for url: https://www.crunchbase.com/organization/the-digital-fifth\n",
            "🌐 Scraping: https://www.oliverwyman.com/our-expertise/insights/2024/sep/five-key-trends-shaping-digital-banks-future.html\n",
            "🌐 Scraping: https://www.youtube.com/watch?v=BaF9vbD4dzg\n",
            "✅ Scraping and categorization complete! Data saved as consulting_market_analysis.csv.\n"
          ]
        }
      ]
    }
  ]
}